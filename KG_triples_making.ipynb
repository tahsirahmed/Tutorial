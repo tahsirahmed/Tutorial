{
 "cells": [
  {
   "cell_type": "code",
   "execution_count": 42,
   "metadata": {},
   "outputs": [],
   "source": [
    "#import library\n",
    "import pandas as pd\n",
    "import networkx as nx\n",
    "import matplotlib.pyplot as plt"
   ]
  },
  {
   "cell_type": "code",
   "execution_count": 43,
   "metadata": {},
   "outputs": [],
   "source": [
    "#Sample Dataset\n",
    "BasicInfo={\n",
    "    \"Name\":['Munna','Robiul','Sayem'],\n",
    "    \"Age\":['27','32','24'],\n",
    "    \"Study\":['MSc','MSc',\"BSc\"],\n",
    "    \"Home_Country\":['Bangladesh','Bangladesh','Bangladesh'],\n",
    "}"
   ]
  },
  {
   "cell_type": "code",
   "execution_count": 44,
   "metadata": {},
   "outputs": [],
   "source": [
    "data=pd.DataFrame(BasicInfo, columns=['Name','Age','Study','Home_Country'])"
   ]
  },
  {
   "cell_type": "code",
   "execution_count": 45,
   "metadata": {},
   "outputs": [
    {
     "data": {
      "text/html": [
       "<div>\n",
       "<style scoped>\n",
       "    .dataframe tbody tr th:only-of-type {\n",
       "        vertical-align: middle;\n",
       "    }\n",
       "\n",
       "    .dataframe tbody tr th {\n",
       "        vertical-align: top;\n",
       "    }\n",
       "\n",
       "    .dataframe thead th {\n",
       "        text-align: right;\n",
       "    }\n",
       "</style>\n",
       "<table border=\"1\" class=\"dataframe\">\n",
       "  <thead>\n",
       "    <tr style=\"text-align: right;\">\n",
       "      <th></th>\n",
       "      <th>Name</th>\n",
       "      <th>Age</th>\n",
       "      <th>Study</th>\n",
       "      <th>Home_Country</th>\n",
       "    </tr>\n",
       "  </thead>\n",
       "  <tbody>\n",
       "    <tr>\n",
       "      <th>0</th>\n",
       "      <td>Munna</td>\n",
       "      <td>27</td>\n",
       "      <td>MSc</td>\n",
       "      <td>Bangladesh</td>\n",
       "    </tr>\n",
       "    <tr>\n",
       "      <th>1</th>\n",
       "      <td>Robiul</td>\n",
       "      <td>32</td>\n",
       "      <td>MSc</td>\n",
       "      <td>Bangladesh</td>\n",
       "    </tr>\n",
       "    <tr>\n",
       "      <th>2</th>\n",
       "      <td>Sayem</td>\n",
       "      <td>24</td>\n",
       "      <td>BSc</td>\n",
       "      <td>Bangladesh</td>\n",
       "    </tr>\n",
       "  </tbody>\n",
       "</table>\n",
       "</div>"
      ],
      "text/plain": [
       "     Name Age Study Home_Country\n",
       "0   Munna  27   MSc   Bangladesh\n",
       "1  Robiul  32   MSc   Bangladesh\n",
       "2   Sayem  24   BSc   Bangladesh"
      ]
     },
     "execution_count": 45,
     "metadata": {},
     "output_type": "execute_result"
    }
   ],
   "source": [
    "data"
   ]
  },
  {
   "cell_type": "markdown",
   "metadata": {},
   "source": [
    "### Making Triples"
   ]
  },
  {
   "cell_type": "code",
   "execution_count": 46,
   "metadata": {},
   "outputs": [],
   "source": [
    "triples=[]\n",
    "for _,row in data.iterrows():\n",
    "    name= (row['Name'], \"AgeOf\", row['Age'])\n",
    "    study= (row['Name'], \"StudyIn\", row['Study'])\n",
    "    country= (row['Name'], \"HomeCountry\", row['Home_Country'])\n",
    "    \n",
    "    triples.extend((name,study,country))"
   ]
  },
  {
   "cell_type": "code",
   "execution_count": 47,
   "metadata": {},
   "outputs": [
    {
     "data": {
      "text/plain": [
       "[('Munna', 'AgeOf', '27'),\n",
       " ('Munna', 'StudyIn', 'MSc'),\n",
       " ('Munna', 'HomeCountry', 'Bangladesh'),\n",
       " ('Robiul', 'AgeOf', '32'),\n",
       " ('Robiul', 'StudyIn', 'MSc'),\n",
       " ('Robiul', 'HomeCountry', 'Bangladesh'),\n",
       " ('Sayem', 'AgeOf', '24'),\n",
       " ('Sayem', 'StudyIn', 'BSc'),\n",
       " ('Sayem', 'HomeCountry', 'Bangladesh')]"
      ]
     },
     "execution_count": 47,
     "metadata": {},
     "output_type": "execute_result"
    }
   ],
   "source": [
    "triples"
   ]
  },
  {
   "cell_type": "code",
   "execution_count": 48,
   "metadata": {},
   "outputs": [],
   "source": [
    "triples_data=pd.DataFrame(triples, columns=[\"Subject\", \"Predicate\", \"Object\"])"
   ]
  },
  {
   "cell_type": "code",
   "execution_count": 49,
   "metadata": {},
   "outputs": [
    {
     "data": {
      "text/html": [
       "<div>\n",
       "<style scoped>\n",
       "    .dataframe tbody tr th:only-of-type {\n",
       "        vertical-align: middle;\n",
       "    }\n",
       "\n",
       "    .dataframe tbody tr th {\n",
       "        vertical-align: top;\n",
       "    }\n",
       "\n",
       "    .dataframe thead th {\n",
       "        text-align: right;\n",
       "    }\n",
       "</style>\n",
       "<table border=\"1\" class=\"dataframe\">\n",
       "  <thead>\n",
       "    <tr style=\"text-align: right;\">\n",
       "      <th></th>\n",
       "      <th>Subject</th>\n",
       "      <th>Predicate</th>\n",
       "      <th>Object</th>\n",
       "    </tr>\n",
       "  </thead>\n",
       "  <tbody>\n",
       "    <tr>\n",
       "      <th>0</th>\n",
       "      <td>Munna</td>\n",
       "      <td>AgeOf</td>\n",
       "      <td>27</td>\n",
       "    </tr>\n",
       "    <tr>\n",
       "      <th>1</th>\n",
       "      <td>Munna</td>\n",
       "      <td>StudyIn</td>\n",
       "      <td>MSc</td>\n",
       "    </tr>\n",
       "    <tr>\n",
       "      <th>2</th>\n",
       "      <td>Munna</td>\n",
       "      <td>HomeCountry</td>\n",
       "      <td>Bangladesh</td>\n",
       "    </tr>\n",
       "    <tr>\n",
       "      <th>3</th>\n",
       "      <td>Robiul</td>\n",
       "      <td>AgeOf</td>\n",
       "      <td>32</td>\n",
       "    </tr>\n",
       "    <tr>\n",
       "      <th>4</th>\n",
       "      <td>Robiul</td>\n",
       "      <td>StudyIn</td>\n",
       "      <td>MSc</td>\n",
       "    </tr>\n",
       "    <tr>\n",
       "      <th>5</th>\n",
       "      <td>Robiul</td>\n",
       "      <td>HomeCountry</td>\n",
       "      <td>Bangladesh</td>\n",
       "    </tr>\n",
       "    <tr>\n",
       "      <th>6</th>\n",
       "      <td>Sayem</td>\n",
       "      <td>AgeOf</td>\n",
       "      <td>24</td>\n",
       "    </tr>\n",
       "    <tr>\n",
       "      <th>7</th>\n",
       "      <td>Sayem</td>\n",
       "      <td>StudyIn</td>\n",
       "      <td>BSc</td>\n",
       "    </tr>\n",
       "    <tr>\n",
       "      <th>8</th>\n",
       "      <td>Sayem</td>\n",
       "      <td>HomeCountry</td>\n",
       "      <td>Bangladesh</td>\n",
       "    </tr>\n",
       "  </tbody>\n",
       "</table>\n",
       "</div>"
      ],
      "text/plain": [
       "  Subject    Predicate      Object\n",
       "0   Munna        AgeOf          27\n",
       "1   Munna      StudyIn         MSc\n",
       "2   Munna  HomeCountry  Bangladesh\n",
       "3  Robiul        AgeOf          32\n",
       "4  Robiul      StudyIn         MSc\n",
       "5  Robiul  HomeCountry  Bangladesh\n",
       "6   Sayem        AgeOf          24\n",
       "7   Sayem      StudyIn         BSc\n",
       "8   Sayem  HomeCountry  Bangladesh"
      ]
     },
     "execution_count": 49,
     "metadata": {},
     "output_type": "execute_result"
    }
   ],
   "source": [
    "triples_data "
   ]
  },
  {
   "cell_type": "code",
   "execution_count": 114,
   "metadata": {},
   "outputs": [],
   "source": [
    "def graph(name):\n",
    "    G1=nx.from_pandas_edgelist(triples_data[triples_data['Subject']== name],\"Object\",\"Subject\", \n",
    "                              create_using=nx.DiGraph(),edge_attr=True)\n",
    "\n",
    "    \n",
    "    plt.figure(figsize=(6,6))\n",
    "    pos = nx.spectral_layout(G1)\n",
    "    nx.draw(G1, with_labels=True, edge_attr= triples_data['Predicate'], node_color='skyblue', node_size=800, \n",
    "            edge_cmap=plt.cm.Blues, pos = pos)\n",
    "    plt.show()"
   ]
  },
  {
   "cell_type": "code",
   "execution_count": 115,
   "metadata": {},
   "outputs": [
    {
     "data": {
      "image/png": "[encoded data removed]",
      "text/plain": [
       "<Figure size 432x432 with 1 Axes>"
      ]
     },
     "metadata": {},
     "output_type": "display_data"
    }
   ],
   "source": [
    "graph(\"Munna\")"
   ]
  },
  {
   "cell_type": "code",
   "execution_count": null,
   "metadata": {},
   "outputs": [],
   "source": []
  }
 ],
 "metadata": {
  "kernelspec": {
   "display_name": "Python 3",
   "language": "python",
   "name": "python3"
  },
  "language_info": {
   "codemirror_mode": {
    "name": "ipython",
    "version": 3
   },
   "file_extension": ".py",
   "mimetype": "text/x-python",
   "name": "python",
   "nbconvert_exporter": "python",
   "pygments_lexer": "ipython3",
   "version": "3.7.6"
  }
 },
 "nbformat": 4,
 "nbformat_minor": 2
}
